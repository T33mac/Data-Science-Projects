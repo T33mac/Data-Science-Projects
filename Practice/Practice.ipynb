{
 "cells": [
  {
   "cell_type": "markdown",
   "metadata": {
    "extensions": {
     "jupyter_dashboards": {
      "version": 1,
      "views": {
       "grid_default": {},
       "report_default": {
        "hidden": false
       }
      }
     }
    }
   },
   "source": [
    "# App Ratings 3.8 to 4.8 by Category"
   ]
  },
  {
   "cell_type": "markdown",
   "metadata": {
    "extensions": {
     "jupyter_dashboards": {
      "version": 1,
      "views": {
       "grid_default": {},
       "report_default": {
        "hidden": false
       }
      }
     }
    }
   },
   "source": [
    "### a practice run"
   ]
  },
  {
   "cell_type": "code",
   "execution_count": 1,
   "metadata": {
    "extensions": {
     "jupyter_dashboards": {
      "version": 1,
      "views": {
       "grid_default": {},
       "report_default": {
        "hidden": true
       }
      }
     }
    }
   },
   "outputs": [],
   "source": [
    "%matplotlib inline"
   ]
  },
  {
   "cell_type": "code",
   "execution_count": 22,
   "metadata": {
    "extensions": {
     "jupyter_dashboards": {
      "version": 1,
      "views": {
       "grid_default": {},
       "report_default": {
        "hidden": true
       }
      }
     }
    }
   },
   "outputs": [],
   "source": [
    "import pandas as pd\n",
    "#import seaborn as sns\n",
    "import matplotlib.pyplot as plt\n",
    "import numpy as np\n",
    "from ipywidgets import interact"
   ]
  },
  {
   "cell_type": "code",
   "execution_count": 3,
   "metadata": {
    "extensions": {
     "jupyter_dashboards": {
      "version": 1,
      "views": {
       "grid_default": {},
       "report_default": {
        "hidden": true
       }
      }
     }
    }
   },
   "outputs": [],
   "source": [
    "app = pd.read_csv('googleplaystore.csv')\n",
    "apps = app.drop(['Reviews', 'Size', 'Installs', 'Type', 'Price','Content Rating','Genres', 'Last Updated',\n",
    "            'Current Ver', 'Android Ver'], axis=1)\n",
    "apps = apps.drop(apps.index[10472])"
   ]
  },
  {
   "cell_type": "code",
   "execution_count": 4,
   "metadata": {
    "extensions": {
     "jupyter_dashboards": {
      "version": 1,
      "views": {
       "grid_default": {},
       "report_default": {
        "hidden": false
       }
      }
     }
    }
   },
   "outputs": [
    {
     "data": {
      "text/html": [
       "<div>\n",
       "<style scoped>\n",
       "    .dataframe tbody tr th:only-of-type {\n",
       "        vertical-align: middle;\n",
       "    }\n",
       "\n",
       "    .dataframe tbody tr th {\n",
       "        vertical-align: top;\n",
       "    }\n",
       "\n",
       "    .dataframe thead th {\n",
       "        text-align: right;\n",
       "    }\n",
       "</style>\n",
       "<table border=\"1\" class=\"dataframe\">\n",
       "  <thead>\n",
       "    <tr style=\"text-align: right;\">\n",
       "      <th></th>\n",
       "      <th>App</th>\n",
       "      <th>Category</th>\n",
       "      <th>Rating</th>\n",
       "    </tr>\n",
       "  </thead>\n",
       "  <tbody>\n",
       "    <tr>\n",
       "      <th>0</th>\n",
       "      <td>Photo Editor &amp; Candy Camera &amp; Grid &amp; ScrapBook</td>\n",
       "      <td>ART_AND_DESIGN</td>\n",
       "      <td>4.1</td>\n",
       "    </tr>\n",
       "    <tr>\n",
       "      <th>1</th>\n",
       "      <td>Coloring book moana</td>\n",
       "      <td>ART_AND_DESIGN</td>\n",
       "      <td>3.9</td>\n",
       "    </tr>\n",
       "    <tr>\n",
       "      <th>2</th>\n",
       "      <td>U Launcher Lite – FREE Live Cool Themes, Hide ...</td>\n",
       "      <td>ART_AND_DESIGN</td>\n",
       "      <td>4.7</td>\n",
       "    </tr>\n",
       "    <tr>\n",
       "      <th>3</th>\n",
       "      <td>Sketch - Draw &amp; Paint</td>\n",
       "      <td>ART_AND_DESIGN</td>\n",
       "      <td>4.5</td>\n",
       "    </tr>\n",
       "    <tr>\n",
       "      <th>4</th>\n",
       "      <td>Pixel Draw - Number Art Coloring Book</td>\n",
       "      <td>ART_AND_DESIGN</td>\n",
       "      <td>4.3</td>\n",
       "    </tr>\n",
       "  </tbody>\n",
       "</table>\n",
       "</div>"
      ],
      "text/plain": [
       "                                                 App        Category  Rating\n",
       "0     Photo Editor & Candy Camera & Grid & ScrapBook  ART_AND_DESIGN     4.1\n",
       "1                                Coloring book moana  ART_AND_DESIGN     3.9\n",
       "2  U Launcher Lite – FREE Live Cool Themes, Hide ...  ART_AND_DESIGN     4.7\n",
       "3                              Sketch - Draw & Paint  ART_AND_DESIGN     4.5\n",
       "4              Pixel Draw - Number Art Coloring Book  ART_AND_DESIGN     4.3"
      ]
     },
     "execution_count": 4,
     "metadata": {},
     "output_type": "execute_result"
    }
   ],
   "source": [
    "apps.head()"
   ]
  },
  {
   "cell_type": "code",
   "execution_count": 5,
   "metadata": {
    "extensions": {
     "jupyter_dashboards": {
      "version": 1,
      "views": {
       "grid_default": {},
       "report_default": {
        "hidden": false
       }
      }
     }
    }
   },
   "outputs": [
    {
     "data": {
      "application/vnd.jupyter.widget-view+json": {
       "model_id": "36de8bc72a314233b26def9793229649",
       "version_major": 2,
       "version_minor": 0
      },
      "text/plain": [
       "interactive(children=(FloatSlider(value=4.3, description='x', max=4.8, min=3.8), Output()), _dom_classes=('wid…"
      ]
     },
     "metadata": {},
     "output_type": "display_data"
    },
    {
     "data": {
      "text/plain": [
       "<function __main__.my_function(x)>"
      ]
     },
     "execution_count": 5,
     "metadata": {},
     "output_type": "execute_result"
    }
   ],
   "source": [
    "def my_function(x):\n",
    "    rating = apps.Category[apps[\"Rating\"] == x].count()\n",
    "    cat = apps.groupby(apps.Category[apps[\"Rating\"] == x])\n",
    "    runit = print(rating, cat)\n",
    "    return x\n",
    "\n",
    "interact(my_function, x=(3.8,4.8,0.1))"
   ]
  },
  {
   "cell_type": "code",
   "execution_count": 6,
   "metadata": {},
   "outputs": [
    {
     "data": {
      "text/plain": [
       "83"
      ]
     },
     "execution_count": 6,
     "metadata": {},
     "output_type": "execute_result"
    }
   ],
   "source": [
    "apps.Category[apps[\"Rating\"] == 3].count()"
   ]
  },
  {
   "cell_type": "code",
   "execution_count": 7,
   "metadata": {},
   "outputs": [
    {
     "name": "stdout",
     "output_type": "stream",
     "text": [
      "                             App           Category  Rating\n",
      "9959  Bolt - EV Charging Service  AUTO_AND_VEHICLES     3.0 \n",
      "\n",
      "\n",
      "\n",
      "                           App  Category  Rating\n",
      "6504               BN Mi Banco  BUSINESS     3.0\n",
      "8025                CW Deposit  BUSINESS     3.0\n",
      "8855              DT Fieldlink  BUSINESS     3.0\n",
      "9933   Qserve EU MDR First Aid  BUSINESS     3.0\n",
      "10151                  EZ View  BUSINESS     3.0\n",
      "10325                FE Mobile  BUSINESS     3.0 \n",
      "\n",
      "\n",
      "\n",
      "                                 App Category  Rating\n",
      "6408  Lezhin Comics - Daily Releases   COMICS     3.0 \n",
      "\n",
      "\n",
      "\n",
      "                                                 App       Category  Rating\n",
      "4597                                 T-Mobile DIGITS  COMMUNICATION     3.0\n",
      "6091  BF Browser by Betfilter - Stop Gambling Today!  COMMUNICATION     3.0 \n",
      "\n",
      "\n",
      "\n",
      "                                  App Category  Rating\n",
      "514                FarmersOnly Dating   DATING     3.0\n",
      "546                        The League   DATING     3.0\n",
      "619    Random Chat App with Strangers   DATING     3.0\n",
      "645           UK Girls Mobile Numbers   DATING     3.0\n",
      "10715              FarmersOnly Dating   DATING     3.0 \n",
      "\n",
      "\n",
      "\n",
      "                                                  App       Category  Rating\n",
      "915  Acorn TV: World-class TV from Britain and Beyond  ENTERTAINMENT     3.0 \n",
      "\n",
      "\n",
      "\n",
      "                                                   App Category  Rating\n",
      "2087                                Pinkalicious Party   FAMILY     3.0\n",
      "4209                               Ohio State Fair 4-H   FAMILY     3.0\n",
      "4599                                DIRECTV Remote App   FAMILY     3.0\n",
      "4934             Universal AC Remote Control Simulator   FAMILY     3.0\n",
      "5149                               The Ah Yeah! Button   FAMILY     3.0\n",
      "5181   The Artificial Intelligence Project (A.I. Chat)   FAMILY     3.0\n",
      "5292  Shoot M-16 vs AK-47 : realistic weapon simulator   FAMILY     3.0\n",
      "5565                                    Paint Space AR   FAMILY     3.0\n",
      "5803                                       Axe Spinner   FAMILY     3.0\n",
      "5963                                    BC Lotto Check   FAMILY     3.0\n",
      "7009    Rized ‼️ Color By Number & Pixel Coloring Book   FAMILY     3.0\n",
      "7368                                                ci   FAMILY     3.0\n",
      "8059                                             CX-40   FAMILY     3.0\n",
      "8402                                            DH UFO   FAMILY     3.0\n",
      "9069                                        Dy So Exam   FAMILY     3.0\n",
      "9287                                   EF Spelling Bee   FAMILY     3.0\n",
      "9334                            EG Classroom Decimals™   FAMILY     3.0\n",
      "9406                                            TAMAGO   FAMILY     3.0\n",
      "9430                                       Egg for Pou   FAMILY     3.0\n",
      "9513    Ek Kahani Aisi Bhi Season 3 - The Horror Story   FAMILY     3.0\n",
      "9926                                      Going Abroad   FAMILY     3.0 \n",
      "\n",
      "\n",
      "\n",
      "                          App Category  Rating\n",
      "7930   MYCU TX Mobile Banking  FINANCE     3.0\n",
      "10341                  FE CPS  FINANCE     3.0 \n",
      "\n",
      "\n",
      "\n",
      "             App Category  Rating\n",
      "9422  Tamago egg     GAME     3.0 \n",
      "\n",
      "\n",
      "\n",
      "                App            Category  Rating\n",
      "5808  Q7 SmartWatch  HEALTH_AND_FITNESS     3.0 \n",
      "\n",
      "\n",
      "\n",
      "                             App   Category  Rating\n",
      "1576                     Telstra  LIFESTYLE     3.0\n",
      "4164                    G-SHOCK+  LIFESTYLE     3.0\n",
      "4168           G-SHOCK Connected  LIFESTYLE     3.0\n",
      "6677                          BR  LIFESTYLE     3.0\n",
      "9950   Emerge EV App (eBike App)  LIFESTYLE     3.0\n",
      "10476      Lennox iComfort Wi-Fi  LIFESTYLE     3.0 \n",
      "\n",
      "\n",
      "\n",
      "                         App             Category  Rating\n",
      "6156  Cordova BG Geolocation  MAPS_AND_NAVIGATION     3.0\n",
      "6909                 BW Taxi  MAPS_AND_NAVIGATION     3.0 \n",
      "\n",
      "\n",
      "\n",
      "                                 App Category  Rating\n",
      "2300  Nursing Care Plan NANDA Tables  MEDICAL     3.0\n",
      "2329                 fred's Pharmacy  MEDICAL     3.0\n",
      "2337                    Delta Dental  MEDICAL     3.0\n",
      "2360                       Dexcom G6  MEDICAL     3.0\n",
      "2428                     Exposure Ed  MEDICAL     3.0\n",
      "2521                 fred's Pharmacy  MEDICAL     3.0 \n",
      "\n",
      "\n",
      "\n",
      "               App            Category  Rating\n",
      "7411  CI On The Go  NEWS_AND_MAGAZINES     3.0\n",
      "8594         DN.VR  NEWS_AND_MAGAZINES     3.0 \n",
      "\n",
      "\n",
      "\n",
      "                App         Category  Rating\n",
      "4470  Android P 9.0  PERSONALIZATION     3.0 \n",
      "\n",
      "\n",
      "\n",
      "                                  App     Category  Rating\n",
      "5215  AI Draw | Art Filter for Selfie  PHOTOGRAPHY     3.0\n",
      "8236                            LC-DB  PHOTOGRAPHY     3.0\n",
      "8967                          DV KING  PHOTOGRAPHY     3.0 \n",
      "\n",
      "\n",
      "\n",
      "                               App      Category  Rating\n",
      "7097  California Cop Assist CA Cop  PRODUCTIVITY     3.0\n",
      "9817     ESLock File Recovery Lite  PRODUCTIVITY     3.0 \n",
      "\n",
      "\n",
      "\n",
      "                                           App  Category  Rating\n",
      "8370  Go Go Coupons - Free Coupon and Discount  SHOPPING     3.0\n",
      "8385             Coupon Mob - Discount Coupons  SHOPPING     3.0 \n",
      "\n",
      "\n",
      "\n",
      "                               App Category  Rating\n",
      "5488  eChallan Andhra Pradesh (AP)   SOCIAL     3.0 \n",
      "\n",
      "\n",
      "\n",
      "                   App Category  Rating\n",
      "6223  BH Bikes Premium   SPORTS     3.0\n",
      "9236       EC-HRV test   SPORTS     3.0 \n",
      "\n",
      "\n",
      "\n",
      "                                App Category  Rating\n",
      "3268      Google app for Android TV    TOOLS     3.0\n",
      "4650                        U Guard    TOOLS     3.0\n",
      "4933               AC Remote For LG    TOOLS     3.0\n",
      "6645                     BQ Scanner    TOOLS     3.0\n",
      "7175               Disc Label Print    TOOLS     3.0\n",
      "8016                          My CW    TOOLS     3.0\n",
      "8368                     Penny Puss    TOOLS     3.0\n",
      "9070                      edp re:dy    TOOLS     3.0\n",
      "9809   2019 Tricks Es File Explores    TOOLS     3.0\n",
      "10020                      EdiRange    TOOLS     3.0 \n",
      "\n",
      "\n",
      "\n",
      "                                                    App          Category  \\\n",
      "3139                         VZ Navigator for Galaxy S4  TRAVEL_AND_LOCAL   \n",
      "4642                     Octo U: Your driving companion  TRAVEL_AND_LOCAL   \n",
      "6581  BPme - Mobile Fuel Payment & BP Driver Rewards...  TRAVEL_AND_LOCAL   \n",
      "6894                                 Best Western To Go  TRAVEL_AND_LOCAL   \n",
      "\n",
      "      Rating  \n",
      "3139     3.0  \n",
      "4642     3.0  \n",
      "6581     3.0  \n",
      "6894     3.0   \n",
      "\n",
      "\n",
      "\n",
      "                            App       Category  Rating\n",
      "5722  EML UPnP-AV Control Point  VIDEO_PLAYERS     3.0 \n",
      "\n",
      "\n",
      "\n"
     ]
    }
   ],
   "source": [
    "x = 3\n",
    "\n",
    "grouped = apps.groupby(apps.Category[apps[\"Rating\"] == x])\n",
    "\n",
    "for key, item in grouped:\n",
    "    print(grouped.get_group(key), \"\\n\\n\\n\")"
   ]
  },
  {
   "cell_type": "code",
   "execution_count": 8,
   "metadata": {
    "extensions": {
     "jupyter_dashboards": {
      "version": 1,
      "views": {
       "grid_default": {},
       "report_default": {
        "hidden": true
       }
      }
     }
    }
   },
   "outputs": [
    {
     "data": {
      "application/vnd.jupyter.widget-view+json": {
       "model_id": "b410e11933e54a488aed25246b302d21",
       "version_major": 2,
       "version_minor": 0
      },
      "text/plain": [
       "interactive(children=(FloatSlider(value=4.3, description='x', max=4.8, min=3.8), Output()), _dom_classes=('wid…"
      ]
     },
     "metadata": {},
     "output_type": "display_data"
    },
    {
     "data": {
      "text/plain": [
       "<function __main__.new_func(x)>"
      ]
     },
     "execution_count": 8,
     "metadata": {},
     "output_type": "execute_result"
    }
   ],
   "source": [
    "def new_func(x):\n",
    "    grouped = apps.groupby(apps.Category[apps[\"Rating\"] == x])\n",
    "    for key, item in grouped:\n",
    "        #newlines = print(grouped.get_group(key), \"\\n\\n\\n\")\n",
    "        counts = grouped.get_group(key).count()\n",
    "        plt.bar(key, counts)\n",
    "    plt.xticks(print(key), rotation=\"vertical\")\n",
    "    plt.show()\n",
    "    #return newlines\n",
    "    \n",
    "interact(new_func, x=(3.8,4.8,0.1))"
   ]
  },
  {
   "cell_type": "code",
   "execution_count": 9,
   "metadata": {},
   "outputs": [
    {
     "name": "stdout",
     "output_type": "stream",
     "text": [
      "ART_AND_DESIGN Rating    4.4\n",
      "dtype: float64\n",
      "AUTO_AND_VEHICLES Rating    4.2\n",
      "dtype: float64\n",
      "BEAUTY Rating    4.3\n",
      "dtype: float64\n",
      "BOOKS_AND_REFERENCE Rating    4.3\n",
      "dtype: float64\n",
      "BUSINESS Rating    4.1\n",
      "dtype: float64\n",
      "COMICS Rating    4.2\n",
      "dtype: float64\n",
      "COMMUNICATION Rating    4.2\n",
      "dtype: float64\n",
      "DATING Rating    4.0\n",
      "dtype: float64\n",
      "EDUCATION Rating    4.4\n",
      "dtype: float64\n",
      "ENTERTAINMENT Rating    4.1\n",
      "dtype: float64\n",
      "EVENTS Rating    4.4\n",
      "dtype: float64\n",
      "FINANCE Rating    4.1\n",
      "dtype: float64\n",
      "FOOD_AND_DRINK Rating    4.2\n",
      "dtype: float64\n",
      "HEALTH_AND_FITNESS Rating    4.3\n",
      "dtype: float64\n",
      "HOUSE_AND_HOME Rating    4.2\n",
      "dtype: float64\n",
      "LIBRARIES_AND_DEMO Rating    4.2\n",
      "dtype: float64\n",
      "LIFESTYLE Rating    4.1\n",
      "dtype: float64\n",
      "GAME Rating    4.3\n",
      "dtype: float64\n",
      "FAMILY Rating    4.2\n",
      "dtype: float64\n",
      "MEDICAL Rating    4.2\n",
      "dtype: float64\n",
      "SOCIAL Rating    4.3\n",
      "dtype: float64\n",
      "SHOPPING Rating    4.3\n",
      "dtype: float64\n",
      "PHOTOGRAPHY Rating    4.2\n",
      "dtype: float64\n",
      "SPORTS Rating    4.2\n",
      "dtype: float64\n",
      "TRAVEL_AND_LOCAL Rating    4.1\n",
      "dtype: float64\n",
      "TOOLS Rating    4.0\n",
      "dtype: float64\n",
      "PERSONALIZATION Rating    4.3\n",
      "dtype: float64\n",
      "PRODUCTIVITY Rating    4.2\n",
      "dtype: float64\n",
      "PARENTING Rating    4.3\n",
      "dtype: float64\n",
      "WEATHER Rating    4.2\n",
      "dtype: float64\n",
      "VIDEO_PLAYERS Rating    4.1\n",
      "dtype: float64\n",
      "NEWS_AND_MAGAZINES Rating    4.1\n",
      "dtype: float64\n",
      "MAPS_AND_NAVIGATION Rating    4.1\n",
      "dtype: float64\n"
     ]
    }
   ],
   "source": [
    "def averages(apps):\n",
    "    uniques = apps.Category.unique()\n",
    "    for i in uniques:\n",
    "        means = apps[apps.Category == i].mean()\n",
    "        print(i,round(means,1))\n",
    "        \n",
    "averages(apps)"
   ]
  },
  {
   "cell_type": "code",
   "execution_count": 10,
   "metadata": {},
   "outputs": [
    {
     "data": {
      "image/png": "[encoded data removed]",
      "text/plain": [
       "<Figure size 432x288 with 1 Axes>"
      ]
     },
     "metadata": {
      "needs_background": "light"
     },
     "output_type": "display_data"
    }
   ],
   "source": [
    "high_var = 4.8\n",
    "low_var = 3.8\n",
    "X = apps.Category[((apps.Rating <= high_var) & (apps.Rating >= low_var))]\n",
    "Y = apps.Rating[((apps.Rating <= high_var) & (apps.Rating >= low_var))]\n",
    "plt.scatter(X, Y)\n",
    "plt.xticks(apps.Category[((apps.Rating <= high_var) & (apps.Rating >= low_var))].unique(), rotation=\"vertical\")\n",
    "plt.show()"
   ]
  },
  {
   "cell_type": "code",
   "execution_count": 21,
   "metadata": {},
   "outputs": [
    {
     "data": {
      "image/png": "[encoded data removed]",
      "text/plain": [
       "<Figure size 432x288 with 1 Axes>"
      ]
     },
     "metadata": {
      "needs_background": "light"
     },
     "output_type": "display_data"
    },
    {
     "name": "stdout",
     "output_type": "stream",
     "text": [
      "16\n"
     ]
    }
   ],
   "source": [
    "f = 1\n",
    "X = apps.Category\n",
    "Y = apps.Rating\n",
    "sorts = apps.Category[apps.Rating == f].count()\n",
    "plt.scatter(X, Y)\n",
    "plt.ylim(3.8,4.8)\n",
    "plt.xticks(apps.Category.unique(), rotation=\"vertical\")\n",
    "plt.show()\n",
    "print(sorts)"
   ]
  }
 ],
 "metadata": {
  "extensions": {
   "jupyter_dashboards": {
    "activeView": "report_default",
    "version": 1,
    "views": {
     "grid_default": {
      "cellMargin": 10,
      "defaultCellHeight": 20,
      "maxColumns": 12,
      "name": "grid",
      "type": "grid"
     },
     "report_default": {
      "name": "report",
      "type": "report"
     }
    }
   }
  },
  "kernelspec": {
   "display_name": "Python 3",
   "language": "python",
   "name": "python3"
  },
  "language_info": {
   "codemirror_mode": {
    "name": "ipython",
    "version": 3
   },
   "file_extension": ".py",
   "mimetype": "text/x-python",
   "name": "python",
   "nbconvert_exporter": "python",
   "pygments_lexer": "ipython3",
   "version": "3.7.6"
  }
 },
 "nbformat": 4,
 "nbformat_minor": 4
}
