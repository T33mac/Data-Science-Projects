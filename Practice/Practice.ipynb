{
 "cells": [
  {
   "cell_type": "markdown",
   "metadata": {
    "extensions": {
     "jupyter_dashboards": {
      "version": 1,
      "views": {
       "grid_default": {},
       "report_default": {
        "hidden": false
       }
      }
     }
    }
   },
   "source": [
    "# App Ratings 3.8 to 4.8 by Category"
   ]
  },
  {
   "cell_type": "markdown",
   "metadata": {
    "extensions": {
     "jupyter_dashboards": {
      "version": 1,
      "views": {
       "grid_default": {},
       "report_default": {
        "hidden": false
       }
      }
     }
    }
   },
   "source": [
    "### a practice run"
   ]
  },
  {
   "cell_type": "code",
   "execution_count": 1,
   "metadata": {
    "extensions": {
     "jupyter_dashboards": {
      "version": 1,
      "views": {
       "grid_default": {},
       "report_default": {
        "hidden": true
       }
      }
     }
    }
   },
   "outputs": [],
   "source": [
    "%matplotlib inline"
   ]
  },
  {
   "cell_type": "code",
   "execution_count": 12,
   "metadata": {
    "extensions": {
     "jupyter_dashboards": {
      "version": 1,
      "views": {
       "grid_default": {},
       "report_default": {
        "hidden": true
       }
      }
     }
    }
   },
   "outputs": [],
   "source": [
    "import pandas as pd\n",
    "#import seaborn as sns\n",
    "import matplotlib.pyplot as plt\n",
    "from ipywidgets import interact"
   ]
  },
  {
   "cell_type": "code",
   "execution_count": 3,
   "metadata": {
    "extensions": {
     "jupyter_dashboards": {
      "version": 1,
      "views": {
       "grid_default": {},
       "report_default": {
        "hidden": true
       }
      }
     }
    }
   },
   "outputs": [],
   "source": [
    "app = pd.read_csv('googleplaystore.csv')\n",
    "apps = app.drop(['Reviews', 'Size', 'Installs', 'Type', 'Price','Content Rating','Genres', 'Last Updated',\n",
    "            'Current Ver', 'Android Ver'], axis=1)\n",
    "onehots = "
   ]
  },
  {
   "cell_type": "code",
   "execution_count": 4,
   "metadata": {
    "extensions": {
     "jupyter_dashboards": {
      "version": 1,
      "views": {
       "grid_default": {},
       "report_default": {
        "hidden": false
       }
      }
     }
    }
   },
   "outputs": [
    {
     "data": {
      "text/html": [
       "<div>\n",
       "<style scoped>\n",
       "    .dataframe tbody tr th:only-of-type {\n",
       "        vertical-align: middle;\n",
       "    }\n",
       "\n",
       "    .dataframe tbody tr th {\n",
       "        vertical-align: top;\n",
       "    }\n",
       "\n",
       "    .dataframe thead th {\n",
       "        text-align: right;\n",
       "    }\n",
       "</style>\n",
       "<table border=\"1\" class=\"dataframe\">\n",
       "  <thead>\n",
       "    <tr style=\"text-align: right;\">\n",
       "      <th></th>\n",
       "      <th>App</th>\n",
       "      <th>Category</th>\n",
       "      <th>Rating</th>\n",
       "    </tr>\n",
       "  </thead>\n",
       "  <tbody>\n",
       "    <tr>\n",
       "      <th>0</th>\n",
       "      <td>Photo Editor &amp; Candy Camera &amp; Grid &amp; ScrapBook</td>\n",
       "      <td>ART_AND_DESIGN</td>\n",
       "      <td>4.1</td>\n",
       "    </tr>\n",
       "    <tr>\n",
       "      <th>1</th>\n",
       "      <td>Coloring book moana</td>\n",
       "      <td>ART_AND_DESIGN</td>\n",
       "      <td>3.9</td>\n",
       "    </tr>\n",
       "    <tr>\n",
       "      <th>2</th>\n",
       "      <td>U Launcher Lite – FREE Live Cool Themes, Hide ...</td>\n",
       "      <td>ART_AND_DESIGN</td>\n",
       "      <td>4.7</td>\n",
       "    </tr>\n",
       "    <tr>\n",
       "      <th>3</th>\n",
       "      <td>Sketch - Draw &amp; Paint</td>\n",
       "      <td>ART_AND_DESIGN</td>\n",
       "      <td>4.5</td>\n",
       "    </tr>\n",
       "    <tr>\n",
       "      <th>4</th>\n",
       "      <td>Pixel Draw - Number Art Coloring Book</td>\n",
       "      <td>ART_AND_DESIGN</td>\n",
       "      <td>4.3</td>\n",
       "    </tr>\n",
       "  </tbody>\n",
       "</table>\n",
       "</div>"
      ],
      "text/plain": [
       "                                                 App        Category  Rating\n",
       "0     Photo Editor & Candy Camera & Grid & ScrapBook  ART_AND_DESIGN     4.1\n",
       "1                                Coloring book moana  ART_AND_DESIGN     3.9\n",
       "2  U Launcher Lite – FREE Live Cool Themes, Hide ...  ART_AND_DESIGN     4.7\n",
       "3                              Sketch - Draw & Paint  ART_AND_DESIGN     4.5\n",
       "4              Pixel Draw - Number Art Coloring Book  ART_AND_DESIGN     4.3"
      ]
     },
     "execution_count": 4,
     "metadata": {},
     "output_type": "execute_result"
    }
   ],
   "source": [
    "apps.head()"
   ]
  },
  {
   "cell_type": "code",
   "execution_count": 49,
   "metadata": {
    "extensions": {
     "jupyter_dashboards": {
      "version": 1,
      "views": {
       "grid_default": {},
       "report_default": {
        "hidden": false
       }
      }
     }
    }
   },
   "outputs": [
    {
     "data": {
      "application/vnd.jupyter.widget-view+json": {
       "model_id": "087b116987f9474e9da6a63153aa826f",
       "version_major": 2,
       "version_minor": 0
      },
      "text/plain": [
       "interactive(children=(FloatSlider(value=4.3, description='x', max=4.8, min=3.8), Output()), _dom_classes=('wid…"
      ]
     },
     "metadata": {},
     "output_type": "display_data"
    },
    {
     "data": {
      "text/plain": [
       "<function __main__.my_function(x)>"
      ]
     },
     "execution_count": 49,
     "metadata": {},
     "output_type": "execute_result"
    }
   ],
   "source": [
    "def my_function(x):\n",
    "    rating = apps.Category[apps[\"Rating\"] == x].count()\n",
    "    cat = apps.groupby(apps.Category[apps[\"Rating\"] == x])\n",
    "    runit = print(rating, cat)\n",
    "    return x\n",
    "\n",
    "interact(my_function, x=(3.8,4.8,0.1))"
   ]
  },
  {
   "cell_type": "code",
   "execution_count": 6,
   "metadata": {},
   "outputs": [
    {
     "data": {
      "text/plain": [
       "83"
      ]
     },
     "execution_count": 6,
     "metadata": {},
     "output_type": "execute_result"
    }
   ],
   "source": [
    "apps.Category[apps[\"Rating\"] == 3].count()"
   ]
  },
  {
   "cell_type": "code",
   "execution_count": 158,
   "metadata": {
    "extensions": {
     "jupyter_dashboards": {
      "version": 1,
      "views": {
       "grid_default": {},
       "report_default": {
        "hidden": true
       }
      }
     }
    }
   },
   "outputs": [
    {
     "name": "stdout",
     "output_type": "stream",
     "text": [
      "                                App        Category  Rating\n",
      "15  Learn To Draw Kawaii Characters  ART_AND_DESIGN     3.2 \n",
      "\n",
      "\n",
      "\n",
      "                                App           Category  Rating\n",
      "87    RST - Sale of cars on the PCT  AUTO_AND_VEHICLES     3.2\n",
      "9951    EV Trip Optimizer for Tesla  AUTO_AND_VEHICLES     3.2 \n",
      "\n",
      "\n",
      "\n",
      "                              App             Category  Rating\n",
      "10592  Florida Statutes (FL Code)  BOOKS_AND_REFERENCE     3.2 \n",
      "\n",
      "\n",
      "\n",
      "                 App  Category  Rating\n",
      "7089   CA UIM Mobile  BUSINESS     3.2\n",
      "10128      EZ Thanks  BUSINESS     3.2 \n",
      "\n",
      "\n",
      "\n",
      "                                                    App Category  Rating\n",
      "311   comico Popular Original Cartoon Updated Everyd...   COMICS     3.2\n",
      "312                       Daily Manga - Comic & Webtoon   COMICS     3.2\n",
      "6411                      Daily Manga - Comic & Webtoon   COMICS     3.2 \n",
      "\n",
      "\n",
      "\n",
      "           App       Category  Rating\n",
      "4373  m:go BiH  COMMUNICATION     3.2 \n",
      "\n",
      "\n",
      "\n",
      "                                         App Category  Rating\n",
      "4547   Car Parking Nissan GT-R R35 Simulator   FAMILY     3.2\n",
      "4665                                   SAY-U   FAMILY     3.2\n",
      "4752             Nose Doctor X: Booger Mania   FAMILY     3.2\n",
      "5200       Chat With Artificial Intelligence   FAMILY     3.2\n",
      "5550                           AR Remote Car   FAMILY     3.2\n",
      "5650                                      au   FAMILY     3.2\n",
      "6404   Yaoi Novels - Shounen ai Book&fiction   FAMILY     3.2\n",
      "6607                                 BP-Tech   FAMILY     3.2\n",
      "7989                           The CW TV app   FAMILY     3.2\n",
      "8031                                    SYFY   FAMILY     3.2\n",
      "8033                                     AMC   FAMILY     3.2\n",
      "8476                    English for Everyone   FAMILY     3.2\n",
      "9273                            EF Classroom   FAMILY     3.2\n",
      "9433          Crack the blue angry birds egg   FAMILY     3.2\n",
      "9435                     Tap The Easter Egg!   FAMILY     3.2\n",
      "10478                          Sci Fi Sounds   FAMILY     3.2 \n",
      "\n",
      "\n",
      "\n",
      "                        App Category  Rating\n",
      "7075        Inwestor mobile  FINANCE     3.2\n",
      "8092  CY.SEND Online Top Up  FINANCE     3.2 \n",
      "\n",
      "\n",
      "\n",
      "                           App Category  Rating\n",
      "7819  Sniper Traning for CS GO     GAME     3.2\n",
      "8830          DS Tower Defence     GAME     3.2 \n",
      "\n",
      "\n",
      "\n",
      "                App            Category  Rating\n",
      "10630  Florida Blue  HEALTH_AND_FITNESS     3.2 \n",
      "\n",
      "\n",
      "\n",
      "        App            Category  Rating\n",
      "1548  V380s  LIBRARIES_AND_DEMO     3.2 \n",
      "\n",
      "\n",
      "\n",
      "                                          App   Category  Rating\n",
      "1571                                    Entel  LIFESTYLE     3.2\n",
      "1594   Official Matsumoto Kiyoshi application  LIFESTYLE     3.2\n",
      "6451                                bm offers  LIFESTYLE     3.2\n",
      "10615               Alachua County Sheriff FL  LIFESTYLE     3.2 \n",
      "\n",
      "\n",
      "\n",
      "            App Category  Rating\n",
      "2249  MommyMeds  MEDICAL     3.2 \n",
      "\n",
      "\n",
      "\n",
      "            App            Category  Rating\n",
      "7635  Feeder.co  NEWS_AND_MAGAZINES     3.2 \n",
      "\n",
      "\n",
      "\n",
      "                      App         Category  Rating\n",
      "7464  CK Eorzea Timepiece  PERSONALIZATION     3.2\n",
      "7975             CV Maker  PERSONALIZATION     3.2 \n",
      "\n",
      "\n",
      "\n",
      "                     App      Category  Rating\n",
      "3460       My Claro Peru  PRODUCTIVITY     3.2\n",
      "5875       A-Z App Store  PRODUCTIVITY     3.2\n",
      "7431  Commission Manager  PRODUCTIVITY     3.2\n",
      "8485           e-Boks.dk  PRODUCTIVITY     3.2\n",
      "8819      Synology Drive  PRODUCTIVITY     3.2 \n",
      "\n",
      "\n",
      "\n",
      "                       App  Category  Rating\n",
      "6500  My College Bookstore  SHOPPING     3.2 \n",
      "\n",
      "\n",
      "\n",
      "                           App Category  Rating\n",
      "4258                    Mali J   SOCIAL     3.2\n",
      "4721      W-History Standalone   SOCIAL     3.2\n",
      "8142                  Rande.cz   SOCIAL     3.2\n",
      "8561  DM Storage (for twitter)   SOCIAL     3.2 \n",
      "\n",
      "\n",
      "\n",
      "             App Category  Rating\n",
      "6513  [BN] Blitz   SPORTS     3.2 \n",
      "\n",
      "\n",
      "\n",
      "                                   App Category  Rating\n",
      "3250                iWnn IME for Nexus    TOOLS     3.2\n",
      "4909        Smart Air Conditioner(CAC)    TOOLS     3.2\n",
      "5878                      AZ PLAYER HD    TOOLS     3.2\n",
      "7187   РееI Smart Remote MP3 CD Player    TOOLS     3.2\n",
      "8557                    DM airdisk Pro    TOOLS     3.2\n",
      "8812                          DS cloud    TOOLS     3.2\n",
      "8944                           SDV Cam    TOOLS     3.2\n",
      "8975                          SportCAM    TOOLS     3.2\n",
      "10580                      Florida 511    TOOLS     3.2 \n",
      "\n",
      "\n",
      "\n",
      "                  App          Category  Rating\n",
      "4638           U-Haul  TRAVEL_AND_LOCAL     3.2\n",
      "9781      Fill 'er Up  TRAVEL_AND_LOCAL     3.2\n",
      "10152  EZ TAG Express  TRAVEL_AND_LOCAL     3.2 \n",
      "\n",
      "\n",
      "\n",
      "                      App       Category  Rating\n",
      "8367  DG UPnP Player Free  VIDEO_PLAYERS     3.2 \n",
      "\n",
      "\n",
      "\n"
     ]
    }
   ],
   "source": [
    "x = 3.2\n",
    "\n",
    "grouped = apps.groupby(apps.Category[apps[\"Rating\"] == x])\n",
    "\n",
    "for key, item in grouped:\n",
    "    print(grouped.get_group(key), \"\\n\\n\\n\")"
   ]
  },
  {
   "cell_type": "code",
   "execution_count": 154,
   "metadata": {},
   "outputs": [
    {
     "name": "stdout",
     "output_type": "stream",
     "text": [
      "ART_AND_DESIGN Rating    4.4\n",
      "dtype: float64\n",
      "AUTO_AND_VEHICLES Rating    4.2\n",
      "dtype: float64\n",
      "BEAUTY Rating    4.3\n",
      "dtype: float64\n",
      "BOOKS_AND_REFERENCE Rating    4.3\n",
      "dtype: float64\n",
      "BUSINESS Rating    4.1\n",
      "dtype: float64\n",
      "COMICS Rating    4.2\n",
      "dtype: float64\n",
      "COMMUNICATION Rating    4.2\n",
      "dtype: float64\n",
      "DATING Rating    4.0\n",
      "dtype: float64\n",
      "EDUCATION Rating    4.4\n",
      "dtype: float64\n",
      "ENTERTAINMENT Rating    4.1\n",
      "dtype: float64\n",
      "EVENTS Rating    4.4\n",
      "dtype: float64\n",
      "FINANCE Rating    4.1\n",
      "dtype: float64\n",
      "FOOD_AND_DRINK Rating    4.2\n",
      "dtype: float64\n",
      "HEALTH_AND_FITNESS Rating    4.3\n",
      "dtype: float64\n",
      "HOUSE_AND_HOME Rating    4.2\n",
      "dtype: float64\n",
      "LIBRARIES_AND_DEMO Rating    4.2\n",
      "dtype: float64\n",
      "LIFESTYLE Rating    4.1\n",
      "dtype: float64\n",
      "GAME Rating    4.3\n",
      "dtype: float64\n",
      "FAMILY Rating    4.2\n",
      "dtype: float64\n",
      "MEDICAL Rating    4.2\n",
      "dtype: float64\n",
      "SOCIAL Rating    4.3\n",
      "dtype: float64\n",
      "SHOPPING Rating    4.3\n",
      "dtype: float64\n",
      "PHOTOGRAPHY Rating    4.2\n",
      "dtype: float64\n",
      "SPORTS Rating    4.2\n",
      "dtype: float64\n",
      "TRAVEL_AND_LOCAL Rating    4.1\n",
      "dtype: float64\n",
      "TOOLS Rating    4.0\n",
      "dtype: float64\n",
      "PERSONALIZATION Rating    4.3\n",
      "dtype: float64\n",
      "PRODUCTIVITY Rating    4.2\n",
      "dtype: float64\n",
      "PARENTING Rating    4.3\n",
      "dtype: float64\n",
      "WEATHER Rating    4.2\n",
      "dtype: float64\n",
      "VIDEO_PLAYERS Rating    4.1\n",
      "dtype: float64\n",
      "NEWS_AND_MAGAZINES Rating    4.1\n",
      "dtype: float64\n",
      "MAPS_AND_NAVIGATION Rating    4.1\n",
      "dtype: float64\n",
      "1.9 Category     1.9\n",
      "Rating      19.0\n",
      "dtype: float64\n"
     ]
    }
   ],
   "source": [
    "def averages(apps):\n",
    "    uniques = apps.Category.unique()\n",
    "    for i in uniques:\n",
    "        means = apps[apps.Category == i].mean()\n",
    "        print(i,round(means,1))\n",
    "        \n",
    "averages(apps)"
   ]
  },
  {
   "cell_type": "code",
   "execution_count": null,
   "metadata": {},
   "outputs": [],
   "source": []
  }
 ],
 "metadata": {
  "extensions": {
   "jupyter_dashboards": {
    "activeView": "report_default",
    "version": 1,
    "views": {
     "grid_default": {
      "cellMargin": 10,
      "defaultCellHeight": 20,
      "maxColumns": 12,
      "name": "grid",
      "type": "grid"
     },
     "report_default": {
      "name": "report",
      "type": "report"
     }
    }
   }
  },
  "kernelspec": {
   "display_name": "Python 3",
   "language": "python",
   "name": "python3"
  },
  "language_info": {
   "codemirror_mode": {
    "name": "ipython",
    "version": 3
   },
   "file_extension": ".py",
   "mimetype": "text/x-python",
   "name": "python",
   "nbconvert_exporter": "python",
   "pygments_lexer": "ipython3",
   "version": "3.7.6"
  }
 },
 "nbformat": 4,
 "nbformat_minor": 4
}
